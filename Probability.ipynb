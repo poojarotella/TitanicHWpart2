{
 "cells": [
  {
   "cell_type": "code",
   "execution_count": 19,
   "metadata": {
    "collapsed": true
   },
   "outputs": [],
   "source": [
    "p_banana_long = 300/450\n",
    "p_banana_sweet = 450/650\n",
    "p_banana_yellow = 450/800\n",
    "\n",
    "p_long_banana = 300/500\n",
    "p_sweet_banana = 450/500\n",
    "p_yellow_banana = 450/500\n",
    "\n",
    "p_not_anana_long = 300/500\n",
    "p_not_banana_sweet = 450/500\n",
    "p_not_banana_yellow = 450/500\n",
    "\n",
    "totalBananas = 500\n",
    "totalOranges = 300\n",
    "totalOthers = 200\n",
    "\n",
    "yellowBananas =  450\n",
    "longBananas =  300\n",
    "sweetBananas =  450\n",
    "\n",
    "totalLong = 450\n",
    "totalSweet = 650\n",
    "totalYellow = 800\n",
    "\n",
    "\n",
    "p_b_lsy = p_long_banana * p_sweet_banana * p_yellow_banana \n",
    "\n"
   ]
  },
  {
   "cell_type": "code",
   "execution_count": 4,
   "metadata": {
    "collapsed": true
   },
   "outputs": [],
   "source": [
    "def addnumbers(x,y):\n",
    "    z=x+y\n",
    "    return z\n",
    "    ## other way to return the value is - return x+y"
   ]
  },
  {
   "cell_type": "code",
   "execution_count": 5,
   "metadata": {},
   "outputs": [
    {
     "data": {
      "text/plain": [
       "10"
      ]
     },
     "execution_count": 5,
     "metadata": {},
     "output_type": "execute_result"
    }
   ],
   "source": [
    "addnumbers(3,7)"
   ]
  },
  {
   "cell_type": "code",
   "execution_count": 7,
   "metadata": {
    "collapsed": true
   },
   "outputs": [],
   "source": [
    "def prob_a_b(a,b):\n",
    "    return a/b\n",
    "    "
   ]
  },
  {
   "cell_type": "code",
   "execution_count": 13,
   "metadata": {
    "collapsed": true
   },
   "outputs": [],
   "source": [
    "def prob_not(x,y):\n",
    "    return 1-prob_a_b(x,y)"
   ]
  },
  {
   "cell_type": "code",
   "execution_count": 14,
   "metadata": {},
   "outputs": [
    {
     "data": {
      "text/plain": [
       "0.1"
      ]
     },
     "execution_count": 14,
     "metadata": {},
     "output_type": "execute_result"
    }
   ],
   "source": [
    "##Probability of bananas given that it is yellow\n",
    "prob_a_b(yellowBananas,totalYellow)\n",
    "\n",
    "##Probability of Yellow given that it is Bananas\n",
    "prob_a_b(yellowBananas , totalBananas)\n",
    "\n",
    "##Probability of not Yellow given that it is Bananas\n",
    "prob_a_b(totalBananas-yellowBananas , totalBananas)\n"
   ]
  },
  {
   "cell_type": "code",
   "execution_count": 15,
   "metadata": {
    "collapsed": true
   },
   "outputs": [],
   "source": [
    "def prob_b_lsy(l,s,y,b):\n",
    "    return (l/b) * (s/b) * (y/b)\n",
    "\n",
    "    "
   ]
  },
  {
   "cell_type": "code",
   "execution_count": 20,
   "metadata": {},
   "outputs": [
    {
     "data": {
      "text/plain": [
       "0.48600000000000004"
      ]
     },
     "execution_count": 20,
     "metadata": {},
     "output_type": "execute_result"
    }
   ],
   "source": [
    "prob_b_lsy(totalLong,totalSweet,totalYellow,totalBananas)\n",
    "\n",
    "prob_b_lsy(yellowBananas,longBananas,sweetBananas,totalBananas)\n"
   ]
  }
 ],
 "metadata": {
  "kernelspec": {
   "display_name": "Python 3",
   "language": "python",
   "name": "python3"
  },
  "language_info": {
   "codemirror_mode": {
    "name": "ipython",
    "version": 3
   },
   "file_extension": ".py",
   "mimetype": "text/x-python",
   "name": "python",
   "nbconvert_exporter": "python",
   "pygments_lexer": "ipython3",
   "version": "3.6.3"
  }
 },
 "nbformat": 4,
 "nbformat_minor": 2
}
